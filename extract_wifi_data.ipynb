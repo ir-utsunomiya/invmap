{
 "cells": [
  {
   "cell_type": "code",
   "execution_count": 1,
   "metadata": {},
   "outputs": [],
   "source": [
    "%matplotlib inline\n",
    "from __future__ import print_function\n",
    "\n",
    "import rospy\n",
    "import rosbag\n",
    "import itertools\n",
    "from  tqdm import tqdm\n",
    "from geometry_msgs.msg import PoseWithCovarianceStamped\n",
    "import tf\n",
    "import numpy as np\n",
    "import time\n",
    "\n",
    "import matplotlib.pyplot as plt\n",
    "import os\n",
    "\n",
    "%load_ext autoreload\n",
    "%autoreload 2"
   ]
  },
  {
   "cell_type": "markdown",
   "metadata": {},
   "source": [
    "# Create ground truth"
   ]
  },
  {
   "cell_type": "code",
   "execution_count": 2,
   "metadata": {},
   "outputs": [],
   "source": [
    "def create_gt(map_name):\n",
    "    gt_bag_filename = '{0:s}/{1:s}/rosbag/{1:s}_pointcloud_odom_gt.bag'.format(root_folder,map_name)\n",
    "    if not os.path.isfile(gt_bag_filename):\n",
    "        gt_bag_filename = '{0:s}/{1:s}/rosbag/{1:s}_pointcloud_gt.bag'.format(root_folder,map_name)\n",
    "    if not os.path.isfile(gt_bag_filename):\n",
    "        print('[Error] _gt.bag not found')\n",
    "        return None\n",
    "\n",
    "    #gt_bag_filename = '{0:s}/{1:s}/{1:s}_pointcloud_odom_gt.bag'.format(root_folder,map_name)\n",
    "    #sensors_bag_filename = '{0:s}/{1:s}/{1:s}_sensors.bag'.format(root_folder,map_name)\n",
    "\n",
    "    #odom_tf_bag_filename = '/tmp/odom_tf.bag'\n",
    "    #odom_nav_bag_filename = '/tmp/odom_msg.bag'\n",
    "    print('Reading {:60s}'.format(gt_bag_filename),end='')\n",
    "    try: \n",
    "        gt_bag = rosbag.Bag(gt_bag_filename)\n",
    "    except:\n",
    "        gt_bag = rosbag.Bag(gt_bag_filename2)\n",
    "    print('\\t Done')\n",
    "    time.sleep(0.2)\n",
    "    \n",
    "    t_offset = None\n",
    "\n",
    "    Pose = list()\n",
    "    for topic, msg, t in tqdm(gt_bag.read_messages(topics=['/carto_pose',])):\n",
    "    #for topic, msg, t in bag.read_messages(topics=['/amcl_pose',]):\n",
    "        #yaw angle\n",
    "        rpy = tf.transformations.euler_from_quaternion((msg.pose.pose.orientation.x,\n",
    "                                                        msg.pose.pose.orientation.y,\n",
    "                                                        msg.pose.pose.orientation.z,\n",
    "                                                        msg.pose.pose.orientation.w,\n",
    "                                                        'xyzs'))\n",
    "        if t_offset is None: t_offset = msg.header.stamp.secs - 300 # -5 minutes\n",
    "        ti = msg.header.stamp.secs-t_offset + 1e-9*msg.header.stamp.nsecs\n",
    "        Pose.append([ti,\n",
    "                    msg.pose.pose.position.x,\n",
    "                    msg.pose.pose.position.y,\n",
    "                    np.cos(rpy[2]),\n",
    "                    np.sin(rpy[2])])\n",
    "\n",
    "    Pose = np.asarray(Pose)\n",
    "\n",
    "    # Smooth traj\n",
    "    eps_time = 1e-2#1e-2 #0.01\n",
    "    del_sum = 0\n",
    "\n",
    "    while(True):\n",
    "        Diff = list()\n",
    "        del_ind = list()\n",
    "        min_time_jump = 1000\n",
    "        for i in range(1,len(Pose)):\n",
    "            dif = Pose[i,0]-Pose[i-1,0]\n",
    "            Diff.append(dif)\n",
    "            if dif < min_time_jump: min_time_jump = dif\n",
    "            if dif <= eps_time: \n",
    "                del_ind.append(i)\n",
    "                del_sum+=1;\n",
    "\n",
    "    #    time_pose = np.delete(time_pose,del_ind)\n",
    "        Pose = np.delete(Pose,del_ind,axis=0)\n",
    "        print(min_time_jump)\n",
    "        if (len(del_ind)==0): break\n",
    "    \n",
    "    return Pose, t_offset"
   ]
  },
  {
   "cell_type": "markdown",
   "metadata": {},
   "source": [
    "# Extract Wifi data"
   ]
  },
  {
   "cell_type": "code",
   "execution_count": 3,
   "metadata": {},
   "outputs": [],
   "source": [
    "import rosbag\n",
    "import tf\n",
    "import numpy as np\n",
    "import pandas as pd\n",
    "\n",
    "from rf_msgs.msg import Rss\n",
    "\"\"\"\n",
    "load all rss info from rosbag\n",
    "\"\"\"\n",
    "\n",
    "def get_wifi(map_name,Pose,t_offset,macdict=None,reverse_macdict=None):\n",
    "\n",
    "    sensors_bag_filename = '{0:s}/{1:s}/rosbag/{1:s}_sensors.bag'.format(root_folder,map_name)\n",
    "    print('Reading {:60s}'.format(sensors_bag_filename),end='')\n",
    "    sensors_bag = rosbag.Bag(sensors_bag_filename)\n",
    "    print('\\t Done')\n",
    "\n",
    "    \n",
    "    if macdict is None: \n",
    "        print('No macdict')\n",
    "        macdict = {}\n",
    "        reverse_macdict = {}\n",
    "        update_macdict = True\n",
    "    else:\n",
    "        print('Using macdict')\n",
    "        update_macdict = False\n",
    "\n",
    "    sensors_topics = ['/rss{:d}'.format(i) for i in range(1,9)]\n",
    "    print('Topics: ',sensors_topics)\n",
    "\n",
    "    sensors_bag = rosbag.Bag(sensors_bag_filename)\n",
    "    sensors = {topic:list() for topic in sensors_topics}\n",
    "\n",
    "    Ti,X,Y,Yaw,Topic,Mac,Freq,Data = [list() for i in range(8)]\n",
    "\n",
    "    for topic, msg, t in tqdm(sensors_bag.read_messages(topics=sensors_topics)):\n",
    "        ti = msg.header.stamp.secs-t_offset + 1e-9*msg.header.stamp.nsecs\n",
    "        # interpolate pose\n",
    "        yaw_c = np.interp(ti,Pose[:,0],Pose[:,3])\n",
    "        yaw_s = np.interp(ti,Pose[:,0],Pose[:,4])\n",
    "        try:\n",
    "            macindex = macdict[msg.mac_address]\n",
    "        except:\n",
    "            if update_macdict:\n",
    "                macindex = int(len(macdict))\n",
    "                macdict[msg.mac_address] = macindex\n",
    "                reverse_macdict[macindex] = msg.mac_address\n",
    "            else:\n",
    "                macindex = -1\n",
    "                continue\n",
    "\n",
    "\n",
    "        # add datapoint\n",
    "        Ti.append(ti)\n",
    "        X.append(np.interp(ti,Pose[:,0],Pose[:,1]))\n",
    "        Y.append(np.interp(ti,Pose[:,0],Pose[:,2]))\n",
    "        Yaw.append(np.arctan2(yaw_s,yaw_c))\n",
    "        Topic.append(topic)\n",
    "        Mac.append(macindex)\n",
    "        Freq.append(int(msg.freq))\n",
    "        Data.append(msg.data[0]/95.+1)\n",
    "    \n",
    "    return  pd.DataFrame.from_dict({\n",
    "            'time':Ti,\n",
    "            'x':X,\n",
    "            'y':Y,\n",
    "            'yaw':Yaw,\n",
    "            'topic':Topic,\n",
    "            'mac_address':Mac,\n",
    "            'freq':Freq,\n",
    "            'data':Data\n",
    "            }), macdict, reverse_macdict\n",
    "\n",
    "def filter_wifi(df):\n",
    "    # create time-slices\n",
    "    ts = 1\n",
    "    time_slices = np.arange(df[\"time\"].min(),df[\"time\"].max(),ts)\n",
    "    tmp = df.groupby(pd.cut(df[\"time\"],time_slices))\n",
    "\n",
    "    df_list_tmp = [group for name, group in tmp]\n",
    "    df_list = list()\n",
    "    for di in df_list_tmp:\n",
    "        if len(di)>0: df_list.append(di)\n",
    "            \n",
    "    # distance filter\n",
    "    d_thr = 0.5 # merge if less than 50cm\n",
    "    Dxy = list()\n",
    "    i = 0\n",
    "    for c in tqdm(range(len(df_list))):\n",
    "        dxy = (df_list[i]['x'].max()-df_list[i]['x'].min())**2+(df_list[i]['y'].max()-df_list[i]['y'].min())**2\n",
    "        if dxy < d_thr**2:\n",
    "            try:\n",
    "                df_list[i] = pd.concat([df_list[i],df_list.pop(i+1)])\n",
    "            except:\n",
    "                pass\n",
    "        else:\n",
    "            i +=1\n",
    "            Dxy.append(dxy**.5)\n",
    "\n",
    "    print(len(df_list))\n",
    "    return df_list\n",
    "\n",
    "\n",
    "def create_wifi_dataset(df_list,macdict,reverse_macdict):\n",
    "    XY = np.asarray([[df['x'].mean(), df['y'].mean()] for df in df_list])\n",
    "    Wifi = np.zeros((XY.shape[0],len(macdict)))\n",
    "    for xi,df in enumerate(df_list):\n",
    "        for macindex, data in df.groupby(['mac_address'])['data'].mean().iteritems():\n",
    "            Wifi[xi,macindex] = data\n",
    "    print(Wifi.shape)\n",
    "    \n",
    "    # delete AP that appear less than x points\n",
    "    ncounts = np.zeros(Wifi.shape[1])\n",
    "    for i,wifi in enumerate(Wifi.T):\n",
    "        ncounts[i] = np.count_nonzero(wifi)\n",
    "    nthr = 5\n",
    "    time.sleep(0.2)\n",
    "    print('APs with more than {:d} points: {:d}'.format(nthr,np.sum(ncounts > nthr)))\n",
    "    \n",
    "    filtered_dict = {}\n",
    "    del_id = list()\n",
    "\n",
    "    for i,nc in enumerate(ncounts):\n",
    "        if nc > 5: # if more than 5 occurrences. the ap is saved\n",
    "            new_index = len(filtered_dict)\n",
    "            filtered_dict[reverse_macdict[i]] = new_index\n",
    "\n",
    "    print(len(macdict),'->',len(filtered_dict))\n",
    "    if len(macdict) != len(filtered_dict): macdict = filtered_dict\n",
    "    return XY,Wifi,macdict"
   ]
  },
  {
   "cell_type": "markdown",
   "metadata": {},
   "source": [
    "# Example use"
   ]
  },
  {
   "cell_type": "code",
   "execution_count": 4,
   "metadata": {},
   "outputs": [
    {
     "name": "stdout",
     "output_type": "stream",
     "text": [
      "\n",
      "####################\n",
      "  map: udai-01 \n",
      "####################\n",
      "Reading /mnt/matrix/rosbag/processed_data/nict/udai-01/rosbag/udai-01_pointcloud_odom_gt.bag\t Done\n"
     ]
    },
    {
     "name": "stderr",
     "output_type": "stream",
     "text": [
      "7666it [00:00, 20854.75it/s]\n"
     ]
    },
    {
     "name": "stdout",
     "output_type": "stream",
     "text": [
      "0.002025550000325893\n",
      "0.9940555800003494\n",
      "Pose: 4681\n",
      ">> Get Wifi\n",
      "Reading /mnt/matrix/rosbag/processed_data/nict/udai-01/rosbag/udai-01_sensors.bag\t Done\n",
      "No macdict\n",
      "Topics:  ['/rss1', '/rss2', '/rss3', '/rss4', '/rss5', '/rss6', '/rss7', '/rss8']\n"
     ]
    },
    {
     "name": "stderr",
     "output_type": "stream",
     "text": [
      "826254it [00:51, 15900.05it/s]\n"
     ]
    },
    {
     "name": "stdout",
     "output_type": "stream",
     "text": [
      ">> Filter time/distance\n"
     ]
    },
    {
     "name": "stderr",
     "output_type": "stream",
     "text": [
      "100%|██████████| 4829/4829 [00:03<00:00, 1293.55it/s]\n"
     ]
    },
    {
     "name": "stdout",
     "output_type": "stream",
     "text": [
      "2288\n",
      ">> Filter mac\n",
      "(2288, 343)\n",
      "APs with more than 5 points: 270\n",
      "343 -> 270\n",
      ">> Recompute Wifi\n",
      "Reading /mnt/matrix/rosbag/processed_data/nict/udai-01/rosbag/udai-01_sensors.bag\t Done\n",
      "Using macdict\n",
      "Topics:  ['/rss1', '/rss2', '/rss3', '/rss4', '/rss5', '/rss6', '/rss7', '/rss8']\n"
     ]
    },
    {
     "name": "stderr",
     "output_type": "stream",
     "text": [
      "826254it [00:45, 18012.49it/s]\n"
     ]
    },
    {
     "name": "stdout",
     "output_type": "stream",
     "text": [
      ">> Re-Filter time/distance\n"
     ]
    },
    {
     "name": "stderr",
     "output_type": "stream",
     "text": [
      "100%|██████████| 4829/4829 [00:03<00:00, 1293.39it/s]\n"
     ]
    },
    {
     "name": "stdout",
     "output_type": "stream",
     "text": [
      "2288\n",
      ">> Compute Wifi dataset\n",
      "(2288, 270)\n",
      "APs with more than 5 points: 270\n",
      "270 -> 270\n",
      "Wifi  :  (2288, 270) \n",
      "XY    :  (2288, 2)\n"
     ]
    },
    {
     "data": {
      "image/png": "[encoded data removed]",
      "text/plain": [
       "<matplotlib.figure.Figure at 0x7f92a5023590>"
      ]
     },
     "metadata": {
      "needs_background": "light"
     },
     "output_type": "display_data"
    }
   ],
   "source": [
    "root_folder = '/mnt/matrix/rosbag/processed_data/nict'\n",
    "map_name = 'udai-01'\n",
    "\n",
    "print('\\n####################\\n  map: {:s} \\n####################'.format(map_name)); time.sleep(0.2)\n",
    "Pose, t_offset = create_gt(map_name)\n",
    "print('Pose: {:d}'.format(int(Pose.shape[0])))\n",
    "print('>> Get Wifi'); time.sleep(0.2)\n",
    "df, macdict, reverse_macdict = get_wifi(map_name,Pose,t_offset,macdict=None)\n",
    "print('>> Filter time/distance'); time.sleep(0.2)\n",
    "df_list = filter_wifi(df)\n",
    "print('>> Filter mac'); time.sleep(0.2)\n",
    "_,_,macdict = create_wifi_dataset(df_list,macdict,reverse_macdict)\n",
    "#recompute using filtered macdict\n",
    "print('>> Recompute Wifi'); time.sleep(0.2)\n",
    "df, macdict, reverse_macdict = get_wifi(map_name,Pose,t_offset,macdict=macdict,reverse_macdict=reverse_macdict)\n",
    "print('>> Re-Filter time/distance'); time.sleep(0.2)\n",
    "df_list = filter_wifi(df)\n",
    "print('>> Compute Wifi dataset'); time.sleep(0.2)\n",
    "XY,Wifi,macdict = create_wifi_dataset(df_list,macdict,reverse_macdict)\n",
    "\n",
    "print('Wifi  : ',Wifi.shape,\n",
    "      '\\nXY    : ',XY.shape)\n",
    "f,ax = plt.subplots()\n",
    "ax.scatter(XY[:,0],XY[:,1])\n",
    "ax.set_aspect('equal')\n",
    "\n",
    "# Save data\n",
    "#try:\n",
    "#    os.mkdir('{0:s}/{1:s}/invisible-maps/'.format(root_folder,map_name))\n",
    "#except:\n",
    "#    pass\n",
    "#save_filename = '{0:s}/{1:s}/invisible-maps/{1:s}_WifiData.npz'.format(root_folder,map_name)\n",
    "#np.savez_compressed(save_filename,XY=XY,Wifi=Wifi,macdict=macdict)"
   ]
  }
 ],
 "metadata": {
  "kernelspec": {
   "display_name": "Python 2",
   "language": "python",
   "name": "python2"
  },
  "language_info": {
   "codemirror_mode": {
    "name": "ipython",
    "version": 2
   },
   "file_extension": ".py",
   "mimetype": "text/x-python",
   "name": "python",
   "nbconvert_exporter": "python",
   "pygments_lexer": "ipython2",
   "version": "2.7.17"
  }
 },
 "nbformat": 4,
 "nbformat_minor": 4
}
