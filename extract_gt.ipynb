{
 "cells": [
  {
   "cell_type": "code",
   "execution_count": 1,
   "metadata": {},
   "outputs": [],
   "source": [
    "%matplotlib inline\n",
    "from __future__ import print_function\n",
    "\n",
    "import rospy\n",
    "import rosbag\n",
    "import itertools\n",
    "from  tqdm import tqdm\n",
    "from geometry_msgs.msg import PoseWithCovarianceStamped\n",
    "import tf\n",
    "import numpy as np\n",
    "import time\n",
    "\n",
    "import matplotlib.pyplot as plt\n",
    "import os\n",
    "\n",
    "%load_ext autoreload\n",
    "%autoreload 2"
   ]
  },
  {
   "cell_type": "code",
   "execution_count": 2,
   "metadata": {},
   "outputs": [],
   "source": [
    "def create_gt(map_name):\n",
    "    print(map_name, root_folder)\n",
    "    gt_bag_filename = '{0:s}/{1:s}/rosbag/{1:s}_pointcloud_odom_gt.bag'.format(root_folder,map_name)\n",
    "    if not os.path.isfile(gt_bag_filename):\n",
    "        gt_bag_filename = '{0:s}/{1:s}/rosbag/{1:s}_pointcloud_gt.bag'.format(root_folder,map_name)\n",
    "    if not os.path.isfile(gt_bag_filename):\n",
    "        print('[Error] _gt.bag not found')\n",
    "        return None\n",
    "\n",
    "    #gt_bag_filename = '{0:s}/{1:s}/{1:s}_pointcloud_odom_gt.bag'.format(root_folder,map_name)\n",
    "    #sensors_bag_filename = '{0:s}/{1:s}/{1:s}_sensors.bag'.format(root_folder,map_name)\n",
    "\n",
    "    #odom_tf_bag_filename = '/tmp/odom_tf.bag'\n",
    "    #odom_nav_bag_filename = '/tmp/odom_msg.bag'\n",
    "    print('Reading {:60s}'.format(gt_bag_filename),end='')\n",
    "    try: \n",
    "        gt_bag = rosbag.Bag(gt_bag_filename)\n",
    "    except:\n",
    "        gt_bag = rosbag.Bag(gt_bag_filename2)\n",
    "    print('\\t Done')\n",
    "    time.sleep(0.2)\n",
    "    \n",
    "    t_offset = None\n",
    "\n",
    "    Pose = list()\n",
    "    for topic, msg, t in tqdm(gt_bag.read_messages(topics=['/carto_pose',])):\n",
    "    #for topic, msg, t in bag.read_messages(topics=['/amcl_pose',]):\n",
    "        #yaw angle\n",
    "        rpy = tf.transformations.euler_from_quaternion((msg.pose.pose.orientation.x,\n",
    "                                                        msg.pose.pose.orientation.y,\n",
    "                                                        msg.pose.pose.orientation.z,\n",
    "                                                        msg.pose.pose.orientation.w,\n",
    "                                                        'xyzs'))\n",
    "        if t_offset is None: t_offset = msg.header.stamp.secs - 300 # -5 minutes\n",
    "        ti = msg.header.stamp.secs-t_offset + 1e-9*msg.header.stamp.nsecs\n",
    "        Pose.append([ti,\n",
    "                    msg.pose.pose.position.x,\n",
    "                    msg.pose.pose.position.y,\n",
    "                    np.cos(rpy[2]),\n",
    "                    np.sin(rpy[2])])\n",
    "\n",
    "    Pose = np.asarray(Pose)\n",
    "\n",
    "    # Smooth traj\n",
    "    eps_time = 1e-2#1e-2 #0.01\n",
    "    del_sum = 0\n",
    "\n",
    "    while(True):\n",
    "        Diff = list()\n",
    "        del_ind = list()\n",
    "        min_time_jump = 1000\n",
    "        for i in range(1,len(Pose)):\n",
    "            dif = Pose[i,0]-Pose[i-1,0]\n",
    "            Diff.append(dif)\n",
    "            if dif < min_time_jump: min_time_jump = dif\n",
    "            if dif <= eps_time: \n",
    "                del_ind.append(i)\n",
    "                del_sum+=1;\n",
    "\n",
    "    #    time_pose = np.delete(time_pose,del_ind)\n",
    "        Pose = np.delete(Pose,del_ind,axis=0)\n",
    "        print(min_time_jump)\n",
    "        if (len(del_ind)==0): break\n",
    "    \n",
    "    return Pose, t_offset"
   ]
  },
  {
   "cell_type": "markdown",
   "metadata": {},
   "source": [
    "# Example usage"
   ]
  },
  {
   "cell_type": "code",
   "execution_count": 3,
   "metadata": {},
   "outputs": [
    {
     "name": "stdout",
     "output_type": "stream",
     "text": [
      "udai-01 /mnt/matrix/rosbag/processed_data/nict\n",
      "Reading /mnt/matrix/rosbag/processed_data/nict/udai-01/rosbag/udai-01_pointcloud_odom_gt.bag\t Done\n"
     ]
    },
    {
     "name": "stderr",
     "output_type": "stream",
     "text": [
      "7666it [00:00, 19714.39it/s]\n"
     ]
    },
    {
     "name": "stdout",
     "output_type": "stream",
     "text": [
      "0.002025550000325893\n",
      "0.9940555800003494\n"
     ]
    }
   ],
   "source": [
    "# check files \n",
    "root_folder = '/mnt/matrix/rosbag/processed_data/nict'\n",
    "map_name = 'udai-01'\n",
    "\n",
    "Pose, t_offset = create_gt(map_name)"
   ]
  },
  {
   "cell_type": "code",
   "execution_count": 4,
   "metadata": {},
   "outputs": [
    {
     "data": {
      "image/png": "[encoded data removed]",
      "text/plain": [
       "<matplotlib.figure.Figure at 0x7fa01975b210>"
      ]
     },
     "metadata": {
      "needs_background": "light"
     },
     "output_type": "display_data"
    }
   ],
   "source": [
    "# Plot ground truth pose\n",
    "f, ax = plt.subplots()\n",
    "ax.scatter(Pose[:,1],Pose[:,2])\n",
    "ax.set_aspect('equal')"
   ]
  }
 ],
 "metadata": {
  "kernelspec": {
   "display_name": "Python 2",
   "language": "python",
   "name": "python2"
  },
  "language_info": {
   "codemirror_mode": {
    "name": "ipython",
    "version": 2
   },
   "file_extension": ".py",
   "mimetype": "text/x-python",
   "name": "python",
   "nbconvert_exporter": "python",
   "pygments_lexer": "ipython2",
   "version": "2.7.17"
  }
 },
 "nbformat": 4,
 "nbformat_minor": 4
}
