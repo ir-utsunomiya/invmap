{
 "cells": [
  {
   "cell_type": "code",
   "execution_count": 4,
   "metadata": {},
   "outputs": [],
   "source": [
    "#%matplotlib qt\n",
    "from __future__ import print_function\n",
    "\n",
    "#import rospy\n",
    "#import rosbag\n",
    "import itertools\n",
    "from  tqdm import tqdm\n",
    "#from geometry_msgs.msg import PoseWithCovarianceStamped\n",
    "#import tf\n",
    "import numpy as np\n",
    "\n",
    "import matplotlib.pyplot as plt\n",
    "import os\n",
    "import time\n",
    "\n",
    "%load_ext autoreload\n",
    "%autoreload 2"
   ]
  },
  {
   "cell_type": "code",
   "execution_count": 5,
   "metadata": {},
   "outputs": [
    {
     "ename": "ModuleNotFoundError",
     "evalue": "No module named 'Localization'",
     "output_type": "error",
     "traceback": [
      "\u001b[0;31m---------------------------------------------------------------------------\u001b[0m",
      "\u001b[0;31mModuleNotFoundError\u001b[0m                       Traceback (most recent call last)",
      "Input \u001b[0;32mIn [5]\u001b[0m, in \u001b[0;36m<cell line: 5>\u001b[0;34m()\u001b[0m\n\u001b[1;32m      1\u001b[0m \u001b[38;5;28;01mimport\u001b[39;00m \u001b[38;5;21;01mGPy\u001b[39;00m\n\u001b[1;32m      3\u001b[0m \u001b[38;5;66;03m#import wifi-localization\u001b[39;00m\n\u001b[0;32m----> 5\u001b[0m \u001b[38;5;28;01mfrom\u001b[39;00m \u001b[38;5;21;01mLocalization\u001b[39;00m\u001b[38;5;21;01m.\u001b[39;00m\u001b[38;5;21;01msensormodel\u001b[39;00m\u001b[38;5;21;01m.\u001b[39;00m\u001b[38;5;21;01mgp\u001b[39;00m \u001b[38;5;28;01mimport\u001b[39;00m GP\n",
      "\u001b[0;31mModuleNotFoundError\u001b[0m: No module named 'Localization'"
     ]
    }
   ],
   "source": [
    "import GPy\n",
    "\n",
    "#import wifi-localization\n",
    "\n",
    "from Localization.sensormodel.gp import GP\n",
    "#from Localization.sensormodel.hybrid import hGP #これはcommentでも良い\n",
    "#Localizetion.sensormodel.gp→みやぐすく先生のgitから！"
   ]
  },
  {
   "cell_type": "code",
   "execution_count": 7,
   "metadata": {},
   "outputs": [],
   "source": [
    "# instead of rss.classes import ProcessedData\n",
    "class ProcessedData():\n",
    "    def __init__(self,X,Z,mac_address_dict):\n",
    "        self.data = {'X':X, 'Y':Z, 'Var':Z}\n",
    "        self.nm = X.shape[0]\n",
    "        self.all_mac_dict = mac_address_dict"
   ]
  },
  {
   "cell_type": "code",
   "execution_count": 8,
   "metadata": {},
   "outputs": [
    {
     "name": "stdout",
     "output_type": "stream",
     "text": [
      "\n",
      "####################\n",
      "  map: udai-01 \n",
      "####################\n",
      "Load data\n",
      "Wifi  :  (2288, 270) \n",
      "XY    :  (2288, 2)\n",
      "Create model\n",
      "Training GP\n"
     ]
    },
    {
     "ename": "NameError",
     "evalue": "name 'GP' is not defined",
     "output_type": "error",
     "traceback": [
      "\u001b[0;31m---------------------------------------------------------------------------\u001b[0m",
      "\u001b[0;31mNameError\u001b[0m                                 Traceback (most recent call last)",
      "Input \u001b[0;32mIn [8]\u001b[0m, in \u001b[0;36m<cell line: 30>\u001b[0;34m()\u001b[0m\n\u001b[1;32m     27\u001b[0m \u001b[38;5;66;03m#kernel = GPy.kern.Matern32(2)\u001b[39;00m\n\u001b[1;32m     29\u001b[0m t0 \u001b[38;5;241m=\u001b[39m time\u001b[38;5;241m.\u001b[39mtime()\n\u001b[0;32m---> 30\u001b[0m model \u001b[38;5;241m=\u001b[39m \u001b[43mGP\u001b[49m(traindata\u001b[38;5;241m.\u001b[39mdata,all_mac_dict\u001b[38;5;241m=\u001b[39mmacdict)\n\u001b[1;32m     31\u001b[0m model\u001b[38;5;241m.\u001b[39moptimize(kernel\u001b[38;5;241m=\u001b[39mkernel)\n\u001b[1;32m     32\u001b[0m \u001b[38;5;28mprint\u001b[39m(time\u001b[38;5;241m.\u001b[39mtime()\u001b[38;5;241m-\u001b[39mt0)\n",
      "\u001b[0;31mNameError\u001b[0m: name 'GP' is not defined"
     ]
    }
   ],
   "source": [
    "save_model = False\n",
    "\n",
    "root_folder = '/mnt/matrix/rosbag/processed_data/nict'\n",
    "map_name = 'udai-01'\n",
    "\n",
    "\n",
    "print('\\n####################\\n  map: {:s} \\n####################'.format(map_name)); time.sleep(0.2)\n",
    "save_filename = '{0:s}/{1:s}/invisible-maps/{1:s}_WifiData.npz'.format(root_folder,map_name)\n",
    "\n",
    "print('Load data')\n",
    "data = np.load(save_filename,allow_pickle=True)\n",
    "XY = data['XY']\n",
    "Wifi = data['Wifi']\n",
    "macdict = data['macdict'].item()\n",
    "\n",
    "print('Wifi  : '  ,data['Wifi'].shape,\n",
    "      '\\nXY    : ',data['XY'].shape)\n",
    "\n",
    "print('Create model')\n",
    "traindata = ProcessedData(XY,Wifi,macdict)\n",
    "\n",
    "# Train model\n",
    "print('Training GP')\n",
    "time.sleep(0.2)\n",
    "\n",
    "kernel = GPy.kern.RBF(2)#+GPy.kern.RBF(2,lengthscale=5)\n",
    "#kernel = GPy.kern.Matern32(2)\n",
    "\n",
    "t0 = time.time()\n",
    "model = GP(traindata.data,all_mac_dict=macdict)\n",
    "model.optimize(kernel=kernel)\n",
    "print(time.time()-t0)\n",
    "\n",
    "print(model)\n",
    "\n",
    "if save_model:\n",
    "    save_filename = '{0:s}/{1:s}/invisible-maps/{1:s}_WifiModel.npz'.format(root_folder,map_name)\n",
    "    print('Saving model',save_filename)\n",
    "    np.savez_compressed(save_filename,param_array=model.gp.param_array)"
   ]
  },
  {
   "cell_type": "markdown",
   "metadata": {},
   "source": [
    "# Create Map from trained model"
   ]
  },
  {
   "cell_type": "code",
   "execution_count": 9,
   "metadata": {},
   "outputs": [
    {
     "name": "stdout",
     "output_type": "stream",
     "text": [
      "Creating Wifi map, res 1.00\n",
      "(231,) (154,)\n"
     ]
    },
    {
     "name": "stderr",
     "output_type": "stream",
     "text": [
      "  0%|                                                     | 0/9 [00:00<?, ?it/s]\n"
     ]
    },
    {
     "ename": "NameError",
     "evalue": "name 'model' is not defined",
     "output_type": "error",
     "traceback": [
      "\u001b[0;31m---------------------------------------------------------------------------\u001b[0m",
      "\u001b[0;31mNameError\u001b[0m                                 Traceback (most recent call last)",
      "Input \u001b[0;32mIn [9]\u001b[0m, in \u001b[0;36m<cell line: 23>\u001b[0;34m()\u001b[0m\n\u001b[1;32m     26\u001b[0m \u001b[38;5;66;03m#print('xy in mem')\u001b[39;00m\n\u001b[0;32m---> 27\u001b[0m predictions_mean,predictions_variance \u001b[38;5;241m=\u001b[39m \u001b[43mmodel\u001b[49m\u001b[38;5;241m.\u001b[39mpredict(xy)\n\u001b[1;32m     28\u001b[0m \u001b[38;5;66;03m#print('predictions')\u001b[39;00m\n",
      "\u001b[0;31mNameError\u001b[0m: name 'model' is not defined",
      "\nDuring handling of the above exception, another exception occurred:\n",
      "\u001b[0;31mNameError\u001b[0m                                 Traceback (most recent call last)",
      "Input \u001b[0;32mIn [9]\u001b[0m, in \u001b[0;36m<cell line: 23>\u001b[0;34m()\u001b[0m\n\u001b[1;32m     32\u001b[0m \u001b[38;5;28;01mexcept\u001b[39;00m:\n\u001b[1;32m     33\u001b[0m     xy \u001b[38;5;241m=\u001b[39m XYtest[i\u001b[38;5;241m*\u001b[39mbatch_eval:\u001b[38;5;241m-\u001b[39m\u001b[38;5;241m1\u001b[39m]\n\u001b[0;32m---> 34\u001b[0m     predictions_mean,predictions_variance \u001b[38;5;241m=\u001b[39m \u001b[43mmodel\u001b[49m\u001b[38;5;241m.\u001b[39mpredict(xy)\n\u001b[1;32m     35\u001b[0m     Predictions_mean[i\u001b[38;5;241m*\u001b[39mbatch_eval:\u001b[38;5;241m-\u001b[39m\u001b[38;5;241m1\u001b[39m,:] \u001b[38;5;241m=\u001b[39m predictions_mean\n\u001b[1;32m     36\u001b[0m     Predictions_var[i\u001b[38;5;241m*\u001b[39mbatch_eval:\u001b[38;5;241m-\u001b[39m\u001b[38;5;241m1\u001b[39m]    \u001b[38;5;241m=\u001b[39m predictions_variance\n",
      "\u001b[0;31mNameError\u001b[0m: name 'model' is not defined"
     ]
    }
   ],
   "source": [
    "# Wifi Map\n",
    "res = 1.0\n",
    "\n",
    "print('Creating Wifi map, res {:.2f}'.format(res))\n",
    "time.sleep(0.2)\n",
    "\n",
    "xmin,xmax = np.min(data['XY'][:,0]), np.max(data['XY'][:,0])\n",
    "ymin,ymax = np.min(data['XY'][:,1]), np.max(data['XY'][:,1])\n",
    "\n",
    "x = np.arange(np.floor(xmin-20),np.ceil(xmax+20),res)\n",
    "y = np.arange(np.floor(ymin-20),np.ceil(ymax+20),res)\n",
    "print(x.shape, y.shape)\n",
    "xy = np.meshgrid(x,y)\n",
    "XYtest = np.concatenate([xy[0].reshape(-1,1),xy[1].reshape(-1,1)],axis=1).astype(np.float32)\n",
    "\n",
    "batch_eval = 5000\n",
    "iterations = int(np.ceil(XYtest.shape[0]/batch_eval))\n",
    "\n",
    "Predictions_mean = np.zeros((XYtest.shape[0],Wifi.shape[1]))\n",
    "Predictions_var = np.zeros((XYtest.shape[0],1))\n",
    "\n",
    "# Make predictions\n",
    "for i in tqdm(range(iterations+1)):\n",
    "    try:\n",
    "        xy = XYtest[i*batch_eval:(i+1)*batch_eval]\n",
    "        #print('xy in mem')\n",
    "        predictions_mean,predictions_variance = model.predict(xy)\n",
    "        #print('predictions')\n",
    "        Predictions_mean[i*batch_eval:(i+1)*batch_eval,:] = predictions_mean\n",
    "        Predictions_var[i*batch_eval:(i+1)*batch_eval,:]  = predictions_variance  \n",
    "        #print('copied to cpu')\n",
    "    except:\n",
    "        xy = XYtest[i*batch_eval:-1]\n",
    "        predictions_mean,predictions_variance = model.predict(xy)\n",
    "        Predictions_mean[i*batch_eval:-1,:] = predictions_mean\n",
    "        Predictions_var[i*batch_eval:-1]    = predictions_variance\n",
    "\n",
    "\n",
    "# Save data\n",
    "if save_model: \n",
    "    save_filename = '{0:s}/{1:s}/invisible-maps/{1:s}_WifiMap_res_{2:03d}.npz'.format(root_folder,\n",
    "                                                                            map_name,int(res*100))\n",
    "    np.savez_compressed(save_filename,Mean=Predictions_mean,Var=Predictions_var,macdict=macdict)"
   ]
  },
  {
   "cell_type": "code",
   "execution_count": null,
   "metadata": {},
   "outputs": [],
   "source": []
  }
 ],
 "metadata": {
  "kernelspec": {
   "display_name": "Python 3 (ipykernel)",
   "language": "python",
   "name": "python3"
  },
  "language_info": {
   "codemirror_mode": {
    "name": "ipython",
    "version": 3
   },
   "file_extension": ".py",
   "mimetype": "text/x-python",
   "name": "python",
   "nbconvert_exporter": "python",
   "pygments_lexer": "ipython3",
   "version": "3.8.10"
  }
 },
 "nbformat": 4,
 "nbformat_minor": 4
}
