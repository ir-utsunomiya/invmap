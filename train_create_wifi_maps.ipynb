{
 "cells": [
  {
   "cell_type": "code",
   "execution_count": 1,
   "metadata": {},
   "outputs": [],
   "source": [
    "#%matplotlib qt\n",
    "from __future__ import print_function\n",
    "\n",
    "#import rospy\n",
    "#import rosbag\n",
    "import itertools\n",
    "from  tqdm import tqdm\n",
    "#from geometry_msgs.msg import PoseWithCovarianceStamped\n",
    "#import tf\n",
    "import numpy as np\n",
    "\n",
    "import matplotlib.pyplot as plt\n",
    "import os\n",
    "import time\n",
    "\n",
    "%load_ext autoreload\n",
    "%autoreload 2"
   ]
  },
  {
   "cell_type": "code",
   "execution_count": 3,
   "metadata": {},
   "outputs": [],
   "source": [
    "import GPy\n",
    "\n",
    "#import wifi-localization\n",
    "\n",
    "from Localization.sensormodel.gp import GP\n",
    "#from Localization.sensormodel.hybrid import hGP #これはcommentでも良い\n",
    "#Localizetion.sensormodel.gp→みやぐすく先生のgitから！"
   ]
  },
  {
   "cell_type": "code",
   "execution_count": 4,
   "metadata": {},
   "outputs": [],
   "source": [
    "# instead of rss.classes import ProcessedData\n",
    "class ProcessedData():\n",
    "    def __init__(self,X,Z,mac_address_dict):\n",
    "        self.data = {'X':X, 'Y':Z, 'Var':Z}\n",
    "        self.nm = X.shape[0]\n",
    "        self.all_mac_dict = mac_address_dict"
   ]
  },
  {
   "cell_type": "code",
   "execution_count": 8,
   "metadata": {},
   "outputs": [
    {
     "name": "stdout",
     "output_type": "stream",
     "text": [
      "\n",
      "####################\n",
      "  map: udai-01 \n",
      "####################\n",
      "Load data\n",
      "Wifi  :  (2288, 270) \n",
      "XY    :  (2288, 2)\n",
      "Create model\n",
      "Training GP\n",
      "18.339536666870117\n",
      "Name                                : GP\n",
      "data\n",
      "  X                                 : [2288,   2]\n",
      "  Y                                 : [2288, 270]\n",
      "  Var                               : [2288, 270]\n",
      "\n",
      "Gaussian Process\n",
      "  Name : GP regression\n",
      "  Objective : -982693.7303278127\n",
      "  Number of Parameters : 3\n",
      "  Number of Optimization Parameters : 3\n",
      "  Updates : True\n",
      "  Parameters:\n",
      "    \u001b[1mGP_regression.         \u001b[0;0m  |                  value  |  constraints  |  priors\n",
      "    \u001b[1mrbf.variance           \u001b[0;0m  |   0.008158355749386064  |      +ve      |        \n",
      "    \u001b[1mrbf.lengthscale        \u001b[0;0m  |      8.054248495626641  |      +ve      |        \n",
      "    \u001b[1mGaussian_noise.variance\u001b[0;0m  |  0.0020024063420131873  |      +ve      |        \n",
      "Saving model /home/hiro/data/udai-01/invisible-maps/udai-01_WifiModel.npz\n"
     ]
    }
   ],
   "source": [
    "save_model = True #いっちゃん下のif文に関係あるお\n",
    "\n",
    "#root_folder = '/mnt/matrix/rosbag/processed_data/nict'\n",
    "root_folder = '/home/hiro/data'\n",
    "map_name = 'udai-01'\n",
    "\n",
    "\n",
    "print('\\n####################\\n  map: {:s} \\n####################'.format(map_name)); time.sleep(0.2)\n",
    "save_filename = '{0:s}/{1:s}/invisible-maps/{1:s}_WifiData.npz'.format(root_folder,map_name)\n",
    "\n",
    "print('Load data')\n",
    "data = np.load(save_filename,allow_pickle=True) #wifiData.npzを配列のままloadして、dataに格納\n",
    "XY = data['XY'] #X, Y座標をndarray型[X, Y]で格納\n",
    "Wifi = data['Wifi'] #wifiのデータをWifiに格納\n",
    "macdict = data['macdict'].item() #macdictにmacaddresを格納\n",
    "\n",
    "print('Wifi  : '  ,data['Wifi'].shape,\n",
    "      '\\nXY    : ',data['XY'].shape)\n",
    "\n",
    "print('Create model') \n",
    "traindata = ProcessedData(XY,Wifi,macdict) #ProcessedDataクラスをインスタンス化\n",
    "\n",
    "# Train model\n",
    "print('Training GP')\n",
    "time.sleep(0.2)\n",
    "\n",
    "kernel = GPy.kern.RBF(2)#+GPy.kern.RBF(2,lengthscale=5)\n",
    "#kernel = GPy.kern.Matern32(2)\n",
    "\n",
    "t0 = time.time()\n",
    "model = GP(traindata.data,all_mac_dict=macdict) #GPモデルをインスタンス化\n",
    "model.optimize(kernel=kernel) #最適化の実行\n",
    "print(time.time()-t0)\n",
    "\n",
    "print(model)\n",
    "\n",
    "if save_model:\n",
    "    save_filename = '{0:s}/{1:s}/invisible-maps/{1:s}_WifiModel.npz'.format(root_folder,map_name)\n",
    "    #save_filename = f'../datadir/{map_name}_WifiModel.npz'\n",
    "    print('Saving model',save_filename)\n",
    "    np.savez_compressed(save_filename,param_array=model.gp.param_array)"
   ]
  },
  {
   "cell_type": "markdown",
   "metadata": {},
   "source": [
    "# Create Map from trained model"
   ]
  },
  {
   "cell_type": "code",
   "execution_count": 11,
   "metadata": {},
   "outputs": [
    {
     "name": "stdout",
     "output_type": "stream",
     "text": [
      "Creating Wifi map, res 0.25\n",
      "(924,) (616,)\n"
     ]
    },
    {
     "name": "stderr",
     "output_type": "stream",
     "text": [
      "100%|██████████| 115/115 [00:57<00:00,  1.99it/s]\n"
     ]
    },
    {
     "name": "stdout",
     "output_type": "stream",
     "text": [
      "type of Mean <class 'numpy.ndarray'>\n",
      "type of Var <class 'numpy.ndarray'>\n",
      "shape of Mean (569184, 270)\n",
      "type of Var (569184, 1)\n",
      "============================================\n",
      "predicton_mean = []\n",
      "predicton_variance =  []\n",
      "[[0.00000000e+00 6.29940657e-20 0.00000000e+00 ... 4.03639219e-20\n",
      "  0.00000000e+00 0.00000000e+00]\n",
      " [0.00000000e+00 6.84292581e-20 0.00000000e+00 ... 4.47919852e-20\n",
      "  0.00000000e+00 0.00000000e+00]\n",
      " [0.00000000e+00 7.42527209e-20 0.00000000e+00 ... 4.96463122e-20\n",
      "  0.00000000e+00 0.00000000e+00]\n",
      " ...\n",
      " [0.00000000e+00 1.32707434e-05 1.07523383e-05 ... 0.00000000e+00\n",
      "  0.00000000e+00 7.86190326e-09]\n",
      " [0.00000000e+00 1.20487157e-05 9.47929590e-06 ... 0.00000000e+00\n",
      "  0.00000000e+00 6.97794660e-09]\n",
      " [0.00000000e+00 1.09286751e-05 8.34592764e-06 ... 0.00000000e+00\n",
      "  0.00000000e+00 6.18654412e-09]]\n",
      "====\n",
      "[[0.01066076]\n",
      " [0.01066076]\n",
      " [0.01066076]\n",
      " ...\n",
      " [0.01066076]\n",
      " [0.01066076]\n",
      " [0.01066076]]\n",
      "Saved! /home/hiro/data/udai-01/invisible-maps/udai-01_WifiMap_res_025.npz\n"
     ]
    }
   ],
   "source": [
    "# Wifi Map\n",
    "res = 0.25\n",
    "\n",
    "print('Creating Wifi map, res {:.2f}'.format(res))\n",
    "time.sleep(0.2)\n",
    "\n",
    "xmin,xmax = np.min(data['XY'][:,0]), np.max(data['XY'][:,0])\n",
    "ymin,ymax = np.min(data['XY'][:,1]), np.max(data['XY'][:,1])\n",
    "\n",
    "x = np.arange(np.floor(xmin-20),np.ceil(xmax+20),res)\n",
    "y = np.arange(np.floor(ymin-20),np.ceil(ymax+20),res)\n",
    "print(x.shape, y.shape) \n",
    "xy = np.meshgrid(x,y) #配列から格子データ生成 \n",
    "XYtest = np.concatenate([xy[0].reshape(-1,1),xy[1].reshape(-1,1)],axis=1).astype(np.float32) #x, y座標を一列に直す\n",
    "\n",
    "batch_eval = 5000 #batchsize\n",
    "iterations = int(np.ceil(XYtest.shape[0]/batch_eval)) #iteration数\n",
    "\n",
    "Predictions_mean = np.zeros((XYtest.shape[0],Wifi.shape[1])) #平均値の予測値を格納するための配列初期化\n",
    "Predictions_var = np.zeros((XYtest.shape[0],1)) #分散値の予測値を格納するための配列初期化\n",
    "\n",
    "# Make predictions\n",
    "for i in tqdm(range(iterations+1)):\n",
    "    try:\n",
    "        xy = XYtest[i*batch_eval:(i+1)*batch_eval]\n",
    "        #print('xy in mem')\n",
    "        predictions_mean,predictions_variance = model.predict(xy) \n",
    "        #print('predictions')\n",
    "        Predictions_mean[i*batch_eval:(i+1)*batch_eval,:] = predictions_mean\n",
    "        Predictions_var[i*batch_eval:(i+1)*batch_eval,:]  = predictions_variance  \n",
    "        #print('copied to cpu')\n",
    "    except:\n",
    "        xy = XYtest[i*batch_eval:-1]\n",
    "        predictions_mean,predictions_variance = model.predict(xy)\n",
    "        Predictions_mean[i*batch_eval:-1,:] = predictions_mean\n",
    "        Predictions_var[i*batch_eval:-1]    = predictions_variance\n",
    "\n",
    "print(f\"type of Mean {type(Predictions_mean)}\")\n",
    "print(f\"type of Var {type(Predictions_var)}\")\n",
    "print(f\"shape of Mean {Predictions_mean.shape}\")\n",
    "print(f\"type of Var {Predictions_var.shape}\")\n",
    "\n",
    "print(\"============================================\")\n",
    "print(f\"predicton_mean = {predictions_mean}\")\n",
    "print(f\"predicton_variance =  {predictions_variance}\")\n",
    "#print(f\"model predict = {model.predict(xy)}\")\n",
    "\n",
    "\n",
    "#np.savez_compressed(\"../datadir/test.npz\",Mean=Predictions_mean, Var=Predictions_var,macdict=macdict)\n",
    "print(Predictions_mean)\n",
    "print(\"====\")\n",
    "print(Predictions_var)\n",
    "      \n",
    "# Save data\n",
    "if save_model: \n",
    "    save_filename = '{0:s}/{1:s}/invisible-maps/{1:s}_WifiMap_res_{2:03d}.npz'.format(root_folder, map_name,int(res*100))\n",
    "    #save_filename = f'../datadir/{map_name}_WifiMap_res_{int(res*100):03d}.npz'\n",
    "    np.savez_compressed(save_filename,Mean=Predictions_mean,Var=Predictions_var,macdict=macdict)\n",
    "    print(f\"Saved! {save_filename}\")"
   ]
  },
  {
   "cell_type": "code",
   "execution_count": null,
   "metadata": {},
   "outputs": [],
   "source": []
  },
  {
   "cell_type": "code",
   "execution_count": null,
   "metadata": {},
   "outputs": [],
   "source": []
  },
  {
   "cell_type": "code",
   "execution_count": null,
   "metadata": {},
   "outputs": [],
   "source": []
  }
 ],
 "metadata": {
  "kernelspec": {
   "display_name": "Python 3 (ipykernel)",
   "language": "python",
   "name": "python3"
  },
  "language_info": {
   "codemirror_mode": {
    "name": "ipython",
    "version": 3
   },
   "file_extension": ".py",
   "mimetype": "text/x-python",
   "name": "python",
   "nbconvert_exporter": "python",
   "pygments_lexer": "ipython3",
   "version": "3.8.10"
  }
 },
 "nbformat": 4,
 "nbformat_minor": 4
}
